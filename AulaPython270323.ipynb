{
  "nbformat": 4,
  "nbformat_minor": 0,
  "metadata": {
    "colab": {
      "provenance": [],
      "authorship_tag": "ABX9TyN2gidQZS6jK+/x1qV/ztkq",
      "include_colab_link": true
    },
    "kernelspec": {
      "name": "python3",
      "display_name": "Python 3"
    },
    "language_info": {
      "name": "python"
    }
  },
  "cells": [
    {
      "cell_type": "markdown",
      "metadata": {
        "id": "view-in-github",
        "colab_type": "text"
      },
      "source": [
        "<a href=\"https://colab.research.google.com/github/WSamuelFR/Aulas-FPB-2023-P1/blob/main/AulaPython270323.ipynb\" target=\"_parent\"><img src=\"https://colab.research.google.com/assets/colab-badge.svg\" alt=\"Open In Colab\"/></a>"
      ]
    },
    {
      "cell_type": "code",
      "source": [
        "#insira nome de cidade.\n",
        "#o laço encerra, quando digitar 0."
      ],
      "metadata": {
        "id": "WdkXfhtJUzQ9"
      },
      "execution_count": null,
      "outputs": []
    },
    {
      "cell_type": "code",
      "source": [
        "cidades = []\n",
        "city = input('digite uma cidade :')\n",
        "\n",
        "while(city != '0'):\n",
        " cidades.append(city)\n",
        " city = input('digite uma cidade :')\n",
        "\n",
        "cidades"
      ],
      "metadata": {
        "colab": {
          "base_uri": "https://localhost:8080/"
        },
        "id": "Q7YwdV57U-98",
        "outputId": "3adff63b-e30e-4905-dc6d-ec6b5a88ff27"
      },
      "execution_count": 8,
      "outputs": [
        {
          "name": "stdout",
          "output_type": "stream",
          "text": [
            "digite uma cidade :patos\n",
            "digite uma cidade :campina\n",
            "digite uma cidade :teixeira\n",
            "digite uma cidade :tavares\n",
            "digite uma cidade :desterro\n",
            "digite uma cidade :matureia\n",
            "digite uma cidade :0\n"
          ]
        },
        {
          "output_type": "execute_result",
          "data": {
            "text/plain": [
              "['patos', 'campina', 'teixeira', 'tavares', 'desterro', 'matureia']"
            ]
          },
          "metadata": {},
          "execution_count": 8
        }
      ]
    },
    {
      "cell_type": "code",
      "source": [],
      "metadata": {
        "id": "luufoTc9Xtqb"
      },
      "execution_count": null,
      "outputs": []
    }
  ]
}