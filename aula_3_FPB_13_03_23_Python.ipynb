{
  "nbformat": 4,
  "nbformat_minor": 0,
  "metadata": {
    "colab": {
      "provenance": [],
      "authorship_tag": "ABX9TyOI69aA3tLfzRLgwT1U/t6X",
      "include_colab_link": true
    },
    "kernelspec": {
      "name": "python3",
      "display_name": "Python 3"
    },
    "language_info": {
      "name": "python"
    }
  },
  "cells": [
    {
      "cell_type": "markdown",
      "metadata": {
        "id": "view-in-github",
        "colab_type": "text"
      },
      "source": [
        "<a href=\"https://colab.research.google.com/github/WSamuelFR/Aulas-FPB-2023-P1/blob/main/aula_3_FPB_13_03_23_Python.ipynb\" target=\"_parent\"><img src=\"https://colab.research.google.com/assets/colab-badge.svg\" alt=\"Open In Colab\"/></a>"
      ]
    },
    {
      "cell_type": "code",
      "execution_count": 1,
      "metadata": {
        "colab": {
          "base_uri": "https://localhost:8080/"
        },
        "id": "50iC8mfGCNvm",
        "outputId": "9020d3f2-eb88-4f89-c224-4cf5657dd174"
      },
      "outputs": [
        {
          "output_type": "stream",
          "name": "stdout",
          "text": [
            "meu primeiro notebook\n"
          ]
        }
      ],
      "source": [
        "print('meu primeiro notebook')\n",
        "\n"
      ]
    },
    {
      "cell_type": "code",
      "source": [
        "nome = 'wsamuel'\n",
        "print(nome)"
      ],
      "metadata": {
        "colab": {
          "base_uri": "https://localhost:8080/"
        },
        "id": "ADB9BbKNDM5P",
        "outputId": "a97d1b39-043e-4f58-8025-cf3445ab517e"
      },
      "execution_count": 2,
      "outputs": [
        {
          "output_type": "stream",
          "name": "stdout",
          "text": [
            "wsamuel\n"
          ]
        }
      ]
    },
    {
      "cell_type": "code",
      "source": [
        "#descobrir tipo de variável\n",
        "type(nome)"
      ],
      "metadata": {
        "colab": {
          "base_uri": "https://localhost:8080/"
        },
        "id": "0tUUn3qDDi8Z",
        "outputId": "b89199da-1bb1-4777-ea86-3a5006ec14dd"
      },
      "execution_count": 3,
      "outputs": [
        {
          "output_type": "execute_result",
          "data": {
            "text/plain": [
              "str"
            ]
          },
          "metadata": {},
          "execution_count": 3
        }
      ]
    },
    {
      "cell_type": "code",
      "source": [
        "from traitlets.traitlets import BaseDescriptor\n",
        "a = 100\n",
        "b = 25.6\n",
        "c = a > b \n",
        "d = 'chimpanzé' "
      ],
      "metadata": {
        "id": "3tjGRimBDyv4"
      },
      "execution_count": 4,
      "outputs": []
    },
    {
      "cell_type": "code",
      "source": [
        "type(a)"
      ],
      "metadata": {
        "colab": {
          "base_uri": "https://localhost:8080/"
        },
        "id": "Wp_wUiR_Eg8h",
        "outputId": "dfe8fab9-1531-4767-f098-e1464ff67fa3"
      },
      "execution_count": 5,
      "outputs": [
        {
          "output_type": "execute_result",
          "data": {
            "text/plain": [
              "int"
            ]
          },
          "metadata": {},
          "execution_count": 5
        }
      ]
    },
    {
      "cell_type": "code",
      "source": [
        "type(b)"
      ],
      "metadata": {
        "colab": {
          "base_uri": "https://localhost:8080/"
        },
        "id": "ewZTbA3zKr2r",
        "outputId": "25aaf73e-5f76-429d-ec99-0c3e27b3d0a4"
      },
      "execution_count": 9,
      "outputs": [
        {
          "output_type": "execute_result",
          "data": {
            "text/plain": [
              "float"
            ]
          },
          "metadata": {},
          "execution_count": 9
        }
      ]
    },
    {
      "cell_type": "code",
      "source": [
        "type(c)"
      ],
      "metadata": {
        "colab": {
          "base_uri": "https://localhost:8080/"
        },
        "id": "KNZOnNR1Kwgj",
        "outputId": "796ac745-8c58-4bf7-a524-3c63208ffdd7"
      },
      "execution_count": 10,
      "outputs": [
        {
          "output_type": "execute_result",
          "data": {
            "text/plain": [
              "bool"
            ]
          },
          "metadata": {},
          "execution_count": 10
        }
      ]
    },
    {
      "cell_type": "code",
      "source": [
        "type(d)"
      ],
      "metadata": {
        "colab": {
          "base_uri": "https://localhost:8080/"
        },
        "id": "0xO_5D1WEhDY",
        "outputId": "3ba8d3c1-568c-47c8-97df-28d55f9a6bbd"
      },
      "execution_count": 6,
      "outputs": [
        {
          "output_type": "execute_result",
          "data": {
            "text/plain": [
              "str"
            ]
          },
          "metadata": {},
          "execution_count": 6
        }
      ]
    },
    {
      "cell_type": "code",
      "source": [
        "a = 100 > 200\n",
        "b = 85 == 6\n",
        "c = 'wsamuel' == 'wsamuel'\n",
        "d = 25 == '25'\n",
        "e = 30 == (6*5)\n",
        "f = 'flamengo' != 'vasco'"
      ],
      "metadata": {
        "id": "3-Uj2C5eLRlD"
      },
      "execution_count": 12,
      "outputs": []
    },
    {
      "cell_type": "code",
      "source": [
        "nota1 = float(input('insira a primeira nota'))\n",
        "nota2 = float(input('insira a segunda nota'))\n",
        "nota3 = float(input('insira a terceira nota'))\n",
        "\n",
        "soma = float(nota1) + float(nota2) + float(nota3)\n",
        "media = soma/3\n",
        "\n",
        "print('sua media foi' , media)\n",
        "\n",
        "if media >= 7:\n",
        "  print('parabens, voce esta aprovado')\n",
        "elif (media >= 4 and notaWalison <7):\n",
        "  print(' recuperacao, voce pode tentar novamente, boa sorte')\n",
        "\n",
        "else:\n",
        "  print('se esforce mais na proxima, reprovado!!!')"
      ],
      "metadata": {
        "colab": {
          "base_uri": "https://localhost:8080/"
        },
        "id": "zw-tnQWjPtLE",
        "outputId": "d600dd22-057d-42c2-e230-f248be85ef39"
      },
      "execution_count": 25,
      "outputs": [
        {
          "output_type": "stream",
          "name": "stdout",
          "text": [
            "insira a primeira nota7\n",
            "insira a segunda nota6\n",
            "insira a terceira nota8\n",
            "sua media foi 7.0\n",
            "parabens, voce esta aprovado\n"
          ]
        }
      ]
    },
    {
      "cell_type": "code",
      "source": [
        "print(a)\n",
        "print(b)\n",
        "print(c)\n",
        "print(d)\n",
        "print(e)\n",
        "\n"
      ],
      "metadata": {
        "colab": {
          "base_uri": "https://localhost:8080/"
        },
        "id": "cXqDZK5CL5HI",
        "outputId": "9971aedd-bee3-4ff4-9274-1db60de32ee4"
      },
      "execution_count": 15,
      "outputs": [
        {
          "output_type": "stream",
          "name": "stdout",
          "text": [
            "True\n",
            "False\n",
            "True\n",
            "False\n",
            "True\n"
          ]
        }
      ]
    },
    {
      "cell_type": "code",
      "source": [
        "notaAprovacao = 7.0\n",
        "notaWalison = 3.0\n",
        "print(notaWalison >= notaAprovacao)"
      ],
      "metadata": {
        "colab": {
          "base_uri": "https://localhost:8080/"
        },
        "id": "_oS1v4DiMzOn",
        "outputId": "b138194b-4be2-493f-8389-99f0aedcc615"
      },
      "execution_count": 16,
      "outputs": [
        {
          "output_type": "stream",
          "name": "stdout",
          "text": [
            "True\n"
          ]
        }
      ]
    },
    {
      "cell_type": "code",
      "source": [
        "if(notaAprovacao >= notaWalison):\n",
        "  print('aprovado')\n",
        "else:\n",
        "  print('reprovado')  "
      ],
      "metadata": {
        "colab": {
          "base_uri": "https://localhost:8080/"
        },
        "id": "OKRKObTuNZBB",
        "outputId": "e53cbddb-c83c-45ab-b7eb-e3dd93405388"
      },
      "execution_count": 20,
      "outputs": [
        {
          "output_type": "stream",
          "name": "stdout",
          "text": [
            "reprovado\n"
          ]
        }
      ]
    },
    {
      "cell_type": "code",
      "source": [
        "nota1 = float(input('digite a nota 1'))\n",
        "nota2 = float(input('digite a nota 2'))\n",
        "print(nota1 + nota2)\n"
      ],
      "metadata": {
        "colab": {
          "base_uri": "https://localhost:8080/"
        },
        "id": "nl1RelpPUfk-",
        "outputId": "01b058ee-800e-4f4c-84b9-36b13b91a501"
      },
      "execution_count": 26,
      "outputs": [
        {
          "output_type": "stream",
          "name": "stdout",
          "text": [
            "digite a nota 16\n",
            "digite a nota 24\n",
            "10.0\n"
          ]
        }
      ]
    },
    {
      "cell_type": "code",
      "source": [
        "pao = float(input('pao unidade 0.12 : '))\n",
        "broa =  float(input('broa unidade 1.50 : '))\n",
        "\n",
        "p = float(pao) * 0.12\n",
        "b = float(broa) * 1.50\n",
        "\n",
        "soma = float(p) + float(b)\n",
        "\n",
        "resultado = float(soma) /100 * 10\n",
        "\n",
        "poupanca = float(soma) - float(resultado)\n",
        "\n",
        "print('lucro pao : ' , p)\n",
        "print('lucro broa : ' , b)\n",
        "print('lucro total :' , soma)\n",
        "print('para poupança vai :' , resultado)\n"
      ],
      "metadata": {
        "colab": {
          "base_uri": "https://localhost:8080/"
        },
        "id": "MFYYqFBJWH2w",
        "outputId": "acbd862a-fa11-46c7-a6d5-4859ffbbcfa6"
      },
      "execution_count": 32,
      "outputs": [
        {
          "output_type": "stream",
          "name": "stdout",
          "text": [
            "pao unidade 0.12 : 6\n",
            "broa unidade 1.50 : 3\n",
            "lucro pao :  0.72\n",
            "lucro broa :  4.5\n",
            "lucro total : 5.22\n",
            "para poupança vai : 0.522\n"
          ]
        }
      ]
    }
  ]
}