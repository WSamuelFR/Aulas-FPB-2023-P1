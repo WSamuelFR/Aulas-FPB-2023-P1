{
  "nbformat": 4,
  "nbformat_minor": 0,
  "metadata": {
    "colab": {
      "provenance": [],
      "authorship_tag": "ABX9TyMXEQaKytSZT53pOHfe97Si",
      "include_colab_link": true
    },
    "kernelspec": {
      "name": "python3",
      "display_name": "Python 3"
    },
    "language_info": {
      "name": "python"
    }
  },
  "cells": [
    {
      "cell_type": "markdown",
      "metadata": {
        "id": "view-in-github",
        "colab_type": "text"
      },
      "source": [
        "<a href=\"https://colab.research.google.com/github/WSamuelFR/Aulas-FPB-2023-P1/blob/main/lista_frutas.ipynb\" target=\"_parent\"><img src=\"https://colab.research.google.com/assets/colab-badge.svg\" alt=\"Open In Colab\"/></a>"
      ]
    },
    {
      "cell_type": "code",
      "execution_count": 1,
      "metadata": {
        "colab": {
          "base_uri": "https://localhost:8080/"
        },
        "id": "y8GUN6KYM4sv",
        "outputId": "4968edcf-715a-4c42-f4f8-1fe6635b5c5f"
      },
      "outputs": [
        {
          "output_type": "execute_result",
          "data": {
            "text/plain": [
              "4"
            ]
          },
          "metadata": {},
          "execution_count": 1
        }
      ],
      "source": [
        "fruta = ['manga', 'maracuja', 'laranja', 'caju']\n",
        "\n",
        "len(fruta)"
      ]
    },
    {
      "cell_type": "code",
      "source": [
        "fruta[2] = 'goiaba'"
      ],
      "metadata": {
        "id": "lxe4U9u8NQGG"
      },
      "execution_count": 2,
      "outputs": []
    },
    {
      "cell_type": "code",
      "source": [
        "fruta.append('tomate')"
      ],
      "metadata": {
        "id": "_FrvIvMENdV0"
      },
      "execution_count": 3,
      "outputs": []
    },
    {
      "cell_type": "code",
      "source": [
        "nome = str(input('insira uma fruta :'))\n",
        "\n",
        "if nome in fruta:\n",
        "  print('essa fruta já esta na ista :')\n",
        "else:\n",
        "  fruta.append(nome)\n",
        "  print('fruta adicionada a lista :')\n",
        "\n",
        "print('a lista é', fruta)\n"
      ],
      "metadata": {
        "colab": {
          "base_uri": "https://localhost:8080/"
        },
        "id": "IJK1wiALOQ0J",
        "outputId": "ea61f1ae-70f7-4228-89f9-b51b7d12bf30"
      },
      "execution_count": 7,
      "outputs": [
        {
          "output_type": "stream",
          "name": "stdout",
          "text": [
            "insira uma fruta :melão\n",
            "fruta adicionada a lista :\n",
            "a lista é ['manga', 'maracuja', 'goiaba', 'caju', 'tomate', 'melão']\n"
          ]
        }
      ]
    }
  ]
}